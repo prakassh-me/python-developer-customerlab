{
 "cells": [
  {
   "cell_type": "markdown",
   "id": "e91f2f96-28ed-4c90-8f99-f83d054813d2",
   "metadata": {},
   "source": [
    "# Python Developer Assessment (Customerlabs)"
   ]
  },
  {
   "cell_type": "code",
   "execution_count": null,
   "id": "28853fb6-3b3f-4b01-974e-77c591507473",
   "metadata": {},
   "outputs": [],
   "source": []
  }
 ],
 "metadata": {
  "kernelspec": {
   "display_name": "Python 3 (ipykernel)",
   "language": "python",
   "name": "python3"
  },
  "language_info": {
   "codemirror_mode": {
    "name": "ipython",
    "version": 3
   },
   "file_extension": ".py",
   "mimetype": "text/x-python",
   "name": "python",
   "nbconvert_exporter": "python",
   "pygments_lexer": "ipython3",
   "version": "3.12.7"
  }
 },
 "nbformat": 4,
 "nbformat_minor": 5
}
